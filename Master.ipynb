{
 "cells": [
  {
   "cell_type": "code",
   "execution_count": null,
   "metadata": {},
   "outputs": [],
   "source": []
  },
  {
   "attachments": {},
   "cell_type": "markdown",
   "metadata": {},
   "source": [
    "## BIA 656 Advanced Data Analytics and Machine Learning - Class Project"
   ]
  },
  {
   "attachments": {},
   "cell_type": "markdown",
   "metadata": {},
   "source": [
    "### *Authors: Aayush Bakre, Ajanya Sharma*\n",
    "\n",
    "### Table of Contents\n",
    "- Problem Description\n",
    "- Evaluation\n",
    "- Dataset\n",
    "- Setup Imports & Variables\n",
    "- Exploring the Data "
   ]
  },
  {
   "attachments": {},
   "cell_type": "markdown",
   "metadata": {},
   "source": [
    "## Problem Discription"
   ]
  },
  {
   "attachments": {},
   "cell_type": "markdown",
   "metadata": {},
   "source": [
    "![alt text](https://gray-wafb-prod.cdn.arcpublishing.com/resizer/ELLb-0F79fu-eD2nA4_46JmkiJs=/1200x675/smart/filters:quality(85)/cloudfront-us-east-1.images.arcpublishing.com/gray/YT67CCYJY5FDNJDURKRAGZYETY.jpg)"
   ]
  },
  {
   "attachments": {},
   "cell_type": "markdown",
   "metadata": {},
   "source": [
    "### PPP Loan Fraud Detection\n",
    "\n",
    "The Paycheck Protection Program (PPP) is a loan program created by the U.S. government in 2020 to help certain businesses, self-employed workers, sole proprietors, nonprofit organizations, and tribal businesses keep paying their workers during the COVID-19 pandemic. PPP loans are private loans with low interest rates that can be used to cover payroll costs, rent, interest, and utilities. The loan amount is based on the average monthly payroll costs of the applicant and can be forgiven if the business keeps its employee count and wages stable. The program is run by the U.S. Small Business Administration and the deadline to apply for a PPP loan was March 31, 2021.\n",
    "\n",
    "The project is aimed at exploring loan data from the Paycheck Protection Program (PPP), which provided relief to small and medium-sized businesses during the COVID-19 pandemic. The primary objective is to create graphical visualizations of the data and apply anomaly detection methods to identify potentially fraudulent loans. The project outline suggests a few starting points, including reviewing news stories on fraud in the PPP loan program, downloading the full PPP loan dataset and data dictionary, summarizing the data through tabular summaries and graphical visualizations, investigating loans that have a high potential for fraud by grouping together loans in common categories and identifying outlier loans, and exploring the use of traditional unsupervised learning techniques such as anomaly detection."
   ]
  },
  {
   "attachments": {},
   "cell_type": "markdown",
   "metadata": {},
   "source": [
    "## Evaluation\n",
    "\n",
    "The dataset is a collection of entries on the PPP Loan Fraud application form. There is no training or a test dataset. Initial review doesn't point towards any strong correlations and predictors that would categorize the problem as a predictive or a dependence exerceise. At first glance, the dataset seems to be a good fit for unsupervised outlier detection methods just as the Project Brief suggests. \n"
   ]
  },
  {
   "attachments": {},
   "cell_type": "markdown",
   "metadata": {},
   "source": [
    "## Dataset\n",
    "\n",
    "The dataset is sourced from the official SBA website which can be accessed using the following URL:\n",
    "https://data.sba.gov/dataset/ppp-foia/resource/aab8e9f9-36d1-42e1-b3ba-e59c79f1d7f0?inner_span=True"
   ]
  },
  {
   "attachments": {},
   "cell_type": "markdown",
   "metadata": {},
   "source": [
    "## Setup Imports and Variables"
   ]
  },
  {
   "cell_type": "code",
   "execution_count": 2,
   "metadata": {},
   "outputs": [],
   "source": [
    "%matplotlib inline\n",
    "import matplotlib.pyplot as plt\n",
    "import seaborn as sns; sns.set()\n",
    "import numpy as np\n",
    "import scipy as sp\n",
    "import pandas as pd\n",
    "\n",
    "# Set the global default size of matplotlib figures\n",
    "plt.rc('figure', figsize=(10, 5))\n",
    "\n",
    "# Size of matplotlib figures that contain subplots\n",
    "fizsize_with_subplots = (10, 10)\n",
    "\n",
    "# Size of matplotlib histogram bins\n",
    "bin_size = 10"
   ]
  },
  {
   "attachments": {},
   "cell_type": "markdown",
   "metadata": {},
   "source": [
    "## Explore the Data"
   ]
  },
  {
   "attachments": {},
   "cell_type": "markdown",
   "metadata": {},
   "source": [
    "### Read the Data"
   ]
  },
  {
   "attachments": {},
   "cell_type": "markdown",
   "metadata": {},
   "source": [
    "Read the first few entries"
   ]
  },
  {
   "cell_type": "code",
   "execution_count": 4,
   "metadata": {},
   "outputs": [
    {
     "name": "stdout",
     "output_type": "stream",
     "text": [
      "   LoanNumber DateApproved  SBAOfficeCode ProcessingMethod  \\\n",
      "0  9547507704   05/01/2020            464              PPP   \n",
      "1  9777677704   05/01/2020            464              PPP   \n",
      "2  5791407702   05/01/2020           1013              PPP   \n",
      "3  6223567700   05/01/2020            920              PPP   \n",
      "4  9662437702   05/01/2020            101              PPP   \n",
      "\n",
      "               BorrowerName        BorrowerAddress      BorrowerCity  \\\n",
      "0     SUMTER COATINGS, INC.  2410 Highway 15 South            Sumter   \n",
      "1     PLEASANT PLACES, INC.    7684 Southrail Road  North Charleston   \n",
      "2   BOYER CHILDREN'S CLINIC       1850 BOYER AVE E           SEATTLE   \n",
      "3  KIRTLEY CONSTRUCTION INC   1661 MARTIN RANCH RD    SAN BERNARDINO   \n",
      "4              AERO BOX LLC                    NaN               NaN   \n",
      "\n",
      "  BorrowerState BorrowerZip LoanStatusDate  ...             BusinessType  \\\n",
      "0           NaN  29150-9662     12/18/2020  ...              Corporation   \n",
      "1           NaN  29420-9000     09/28/2021  ...      Sole Proprietorship   \n",
      "2           NaN  98112-2922     03/17/2021  ...  Non-Profit Organization   \n",
      "3           NaN  92407-1740     10/16/2021  ...              Corporation   \n",
      "4           NaN         NaN     08/17/2021  ...                      NaN   \n",
      "\n",
      "   OriginatingLenderLocationID                      OriginatingLender  \\\n",
      "0                        19248                           Synovus Bank   \n",
      "1                        19248                           Synovus Bank   \n",
      "2                         9551  Bank of America, National Association   \n",
      "3                         9551  Bank of America, National Association   \n",
      "4                        57328           The Huntington National Bank   \n",
      "\n",
      "   OriginatingLenderCity  OriginatingLenderState      Gender      Veteran  \\\n",
      "0               COLUMBUS                      GA  Unanswered   Unanswered   \n",
      "1               COLUMBUS                      GA  Male Owned  Non-Veteran   \n",
      "2              CHARLOTTE                      NC  Unanswered   Unanswered   \n",
      "3              CHARLOTTE                      NC  Male Owned  Non-Veteran   \n",
      "4               COLUMBUS                      OH  Unanswered   Unanswered   \n",
      "\n",
      "   NonProfit ForgivenessAmount ForgivenessDate  \n",
      "0        NaN         773553.37      11/20/2020  \n",
      "1        NaN         746336.24      08/12/2021  \n",
      "2          Y         696677.49      02/10/2021  \n",
      "3        NaN         395264.11      09/10/2021  \n",
      "4        NaN         370819.35      04/08/2021  \n",
      "\n",
      "[5 rows x 53 columns]\n"
     ]
    }
   ],
   "source": [
    "# Read in CSV file\n",
    "df = pd.read_csv('/Users/aayush/Documents/Academics/Stevens/Semester 4/Advanced Data Analytics & Machine Learning/Project/Data/public_150k_plus_230101.csv')\n",
    "\n",
    "# View first few rows of data\n",
    "print(df.head())"
   ]
  },
  {
   "attachments": {},
   "cell_type": "markdown",
   "metadata": {},
   "source": [
    "Read the last five entries"
   ]
  },
  {
   "cell_type": "code",
   "execution_count": 5,
   "metadata": {},
   "outputs": [
    {
     "name": "stdout",
     "output_type": "stream",
     "text": [
      "        LoanNumber DateApproved  SBAOfficeCode ProcessingMethod  \\\n",
      "968526  4395967002   04/03/2020            897              PPP   \n",
      "968527  6985647108   04/14/2020            897              PPP   \n",
      "968528  7996438405   02/12/2021            897              PPS   \n",
      "968529  9054647103   04/15/2020            897              PPP   \n",
      "968530  9184687004   04/09/2020            897              PPP   \n",
      "\n",
      "                                             BorrowerName  \\\n",
      "968526                           ROY E PAULSON, JR., P.C.   \n",
      "968527  SWEETWATER COUNTY CHILD DEVELOPMENTAL CENTER, ...   \n",
      "968528                  ELECTRICAL SYSTEMS OF WYOMING INC   \n",
      "968529                                     EDEN LIFE CARE   \n",
      "968530                      S & S JOHNSON ENTERPRISES INC   \n",
      "\n",
      "                      BorrowerAddress   BorrowerCity BorrowerState  \\\n",
      "968526                 102 N. Kenwood         CASPER            WY   \n",
      "968527          1715 HITCHING POST DR    GREEN RIVER            WY   \n",
      "968528                   1105 Adon Rd          Rozet            WY   \n",
      "968529  30 N. Gould Street Suite 4000       SHERIDAN            WY   \n",
      "968530           7342 Granite Loop Rd  TETON VILLAGE            WY   \n",
      "\n",
      "       BorrowerZip LoanStatusDate  ...                 BusinessType  \\\n",
      "968526  82601-2724     01/13/2021  ...                  Corporation   \n",
      "968527  82935-5783     12/08/2020  ...  Non-Profit Childcare Center   \n",
      "968528  82727-8465     09/15/2021  ...     Subchapter S Corporation   \n",
      "968529       82801     03/08/2022  ...                  Corporation   \n",
      "968530  83025-0550     10/22/2021  ...     Subchapter S Corporation   \n",
      "\n",
      "        OriginatingLenderLocationID                OriginatingLender  \\\n",
      "968526                        42366               Platte Valley Bank   \n",
      "968527                       122813                NebraskaLand Bank   \n",
      "968528                        77189  First National Bank of Gillette   \n",
      "968529                        25901              Small Business Bank   \n",
      "968530                        77193       Bank of Jackson Hole Trust   \n",
      "\n",
      "        OriginatingLenderCity  OriginatingLenderState        Gender  \\\n",
      "968526             TORRINGTON                      WY    Male Owned   \n",
      "968527           NORTH PLATTE                      NE    Unanswered   \n",
      "968528               GILLETTE                      WY  Female Owned   \n",
      "968529                 LENEXA                      KS    Unanswered   \n",
      "968530                JACKSON                      WY    Unanswered   \n",
      "\n",
      "            Veteran  NonProfit ForgivenessAmount ForgivenessDate  \n",
      "968526  Non-Veteran        NaN         151037.50      12/09/2020  \n",
      "968527   Unanswered          Y         150789.04      11/03/2020  \n",
      "968528   Unanswered        NaN         150743.84      08/17/2021  \n",
      "968529   Unanswered        NaN         152820.83      02/23/2022  \n",
      "968530   Unanswered        NaN         152162.50      09/22/2021  \n",
      "\n",
      "[5 rows x 53 columns]\n"
     ]
    }
   ],
   "source": [
    "# View last few rows of data\n",
    "print(df.tail())"
   ]
  },
  {
   "attachments": {},
   "cell_type": "markdown",
   "metadata": {},
   "source": [
    "Observed misread values in columns with dates. So next we call information about data types and missing values"
   ]
  },
  {
   "cell_type": "code",
   "execution_count": 6,
   "metadata": {},
   "outputs": [
    {
     "name": "stdout",
     "output_type": "stream",
     "text": [
      "<class 'pandas.core.frame.DataFrame'>\n",
      "RangeIndex: 968531 entries, 0 to 968530\n",
      "Data columns (total 53 columns):\n",
      " #   Column                       Non-Null Count   Dtype  \n",
      "---  ------                       --------------   -----  \n",
      " 0   LoanNumber                   968531 non-null  int64  \n",
      " 1   DateApproved                 968531 non-null  object \n",
      " 2   SBAOfficeCode                968531 non-null  int64  \n",
      " 3   ProcessingMethod             968531 non-null  object \n",
      " 4   BorrowerName                 968527 non-null  object \n",
      " 5   BorrowerAddress              968517 non-null  object \n",
      " 6   BorrowerCity                 968519 non-null  object \n",
      " 7   BorrowerState                968518 non-null  object \n",
      " 8   BorrowerZip                  968518 non-null  object \n",
      " 9   LoanStatusDate               942818 non-null  object \n",
      " 10  LoanStatus                   968531 non-null  object \n",
      " 11  Term                         968531 non-null  int64  \n",
      " 12  SBAGuarantyPercentage        968531 non-null  int64  \n",
      " 13  InitialApprovalAmount        968531 non-null  float64\n",
      " 14  CurrentApprovalAmount        968531 non-null  float64\n",
      " 15  UndisbursedAmount            968484 non-null  float64\n",
      " 16  FranchiseName                35405 non-null   object \n",
      " 17  ServicingLenderLocationID    968531 non-null  int64  \n",
      " 18  ServicingLenderName          968531 non-null  object \n",
      " 19  ServicingLenderAddress       968531 non-null  object \n",
      " 20  ServicingLenderCity          968531 non-null  object \n",
      " 21  ServicingLenderState         968531 non-null  object \n",
      " 22  ServicingLenderZip           968531 non-null  object \n",
      " 23  RuralUrbanIndicator          968531 non-null  object \n",
      " 24  HubzoneIndicator             968531 non-null  object \n",
      " 25  LMIIndicator                 968531 non-null  object \n",
      " 26  BusinessAgeDescription       968530 non-null  object \n",
      " 27  ProjectCity                  968518 non-null  object \n",
      " 28  ProjectCountyName            968474 non-null  object \n",
      " 29  ProjectState                 968522 non-null  object \n",
      " 30  ProjectZip                   968517 non-null  object \n",
      " 31  CD                           968485 non-null  object \n",
      " 32  JobsReported                 968530 non-null  float64\n",
      " 33  NAICSCode                    961903 non-null  float64\n",
      " 34  Race                         968531 non-null  object \n",
      " 35  Ethnicity                    968531 non-null  object \n",
      " 36  UTILITIES_PROCEED            339377 non-null  float64\n",
      " 37  PAYROLL_PROCEED              966699 non-null  float64\n",
      " 38  MORTGAGE_INTEREST_PROCEED    46183 non-null   float64\n",
      " 39  RENT_PROCEED                 99533 non-null   float64\n",
      " 40  REFINANCE_EIDL_PROCEED       22855 non-null   float64\n",
      " 41  HEALTH_CARE_PROCEED          57446 non-null   float64\n",
      " 42  DEBT_INTEREST_PROCEED        31717 non-null   float64\n",
      " 43  BusinessType                 967809 non-null  object \n",
      " 44  OriginatingLenderLocationID  968531 non-null  int64  \n",
      " 45  OriginatingLender            968531 non-null  object \n",
      " 46  OriginatingLenderCity        968531 non-null  object \n",
      " 47  OriginatingLenderState       968531 non-null  object \n",
      " 48  Gender                       968531 non-null  object \n",
      " 49  Veteran                      968531 non-null  object \n",
      " 50  NonProfit                    59341 non-null   object \n",
      " 51  ForgivenessAmount            938885 non-null  float64\n",
      " 52  ForgivenessDate              938885 non-null  object \n",
      "dtypes: float64(13), int64(6), object(34)\n",
      "memory usage: 391.6+ MB\n",
      "None\n"
     ]
    }
   ],
   "source": [
    "# Get information about data types and missing values\n",
    "print(df.info())"
   ]
  },
  {
   "attachments": {},
   "cell_type": "markdown",
   "metadata": {},
   "source": [
    "Now we call for summary statistics for the variables"
   ]
  },
  {
   "cell_type": "code",
   "execution_count": 8,
   "metadata": {},
   "outputs": [
    {
     "name": "stdout",
     "output_type": "stream",
     "text": [
      "         LoanNumber  SBAOfficeCode           Term  SBAGuarantyPercentage  \\\n",
      "count  9.685310e+05  968531.000000  968531.000000               968531.0   \n",
      "mean   5.427137e+09     571.519065      36.377761                  100.0   \n",
      "std    2.551313e+09     263.024816      17.291796                    0.0   \n",
      "min    1.000007e+09     101.000000       0.000000                  100.0   \n",
      "25%    3.271108e+09     373.000000      24.000000                  100.0   \n",
      "50%    5.400677e+09     515.000000      24.000000                  100.0   \n",
      "75%    7.546303e+09     811.000000      60.000000                  100.0   \n",
      "max    9.999007e+09    1094.000000     180.000000                  100.0   \n",
      "\n",
      "       InitialApprovalAmount  CurrentApprovalAmount  UndisbursedAmount  \\\n",
      "count           9.685310e+05           9.685310e+05       9.684840e+05   \n",
      "mean            5.322537e+05           5.306221e+05       1.515947e+01   \n",
      "std             7.442514e+05           7.378871e+05       4.109778e+03   \n",
      "min             0.000000e+00           1.500000e+05       0.000000e+00   \n",
      "25%             2.002000e+05           2.004000e+05       0.000000e+00   \n",
      "50%             2.951770e+05           2.950000e+05       0.000000e+00   \n",
      "75%             5.402000e+05           5.393843e+05       0.000000e+00   \n",
      "max             1.000000e+07           1.000000e+07       2.400000e+06   \n",
      "\n",
      "       ServicingLenderLocationID   JobsReported      NAICSCode  \\\n",
      "count              968531.000000  968530.000000  961903.000000   \n",
      "mean               108106.652551      51.886148  511805.521357   \n",
      "std                133018.400599      67.550965  181178.016548   \n",
      "min                    20.000000       0.000000  111110.000000   \n",
      "25%                 29805.000000      18.000000  336612.000000   \n",
      "50%                 56102.000000      30.000000  541211.000000   \n",
      "75%                117436.000000      54.000000  623110.000000   \n",
      "max                538160.000000     500.000000  999990.000000   \n",
      "\n",
      "       UTILITIES_PROCEED  PAYROLL_PROCEED  MORTGAGE_INTEREST_PROCEED  \\\n",
      "count       3.393770e+05     9.666990e+05               4.618300e+04   \n",
      "mean        1.492980e+04     5.148787e+05               4.815543e+04   \n",
      "std         8.493622e+04     7.140568e+05               1.590929e+05   \n",
      "min         0.000000e+00     0.000000e+00               0.000000e+00   \n",
      "25%         1.000000e+00     1.956000e+05               0.000000e+00   \n",
      "50%         1.000000e+00     2.870793e+05               1.000000e+04   \n",
      "75%         4.500000e+03     5.246035e+05               4.025550e+04   \n",
      "max         1.000000e+07     1.000000e+07               1.000000e+07   \n",
      "\n",
      "       RENT_PROCEED  REFINANCE_EIDL_PROCEED  HEALTH_CARE_PROCEED  \\\n",
      "count  9.953300e+04            2.285500e+04         5.744600e+04   \n",
      "mean   5.619529e+04            6.897797e+03         4.686043e+04   \n",
      "std    1.113755e+05            6.214069e+04         1.029112e+05   \n",
      "min    0.000000e+00            0.000000e+00         0.000000e+00   \n",
      "25%    1.352500e+04            0.000000e+00         8.000000e+03   \n",
      "50%    2.887300e+04            0.000000e+00         1.944000e+04   \n",
      "75%    5.625000e+04            0.000000e+00         4.400000e+04   \n",
      "max    5.518278e+06            2.951590e+06         3.880000e+06   \n",
      "\n",
      "       DEBT_INTEREST_PROCEED  OriginatingLenderLocationID  ForgivenessAmount  \n",
      "count           3.171700e+04                968531.000000       9.388850e+05  \n",
      "mean            1.435866e+04                107644.444761       5.285127e+05  \n",
      "std             5.549347e+04                134878.837316       7.315001e+05  \n",
      "min             0.000000e+00                    20.000000       1.000000e-02  \n",
      "25%             0.000000e+00                 29805.000000       2.008463e+05  \n",
      "50%             5.000000e+02                 56102.000000       2.951752e+05  \n",
      "75%             9.908000e+03                112407.000000       5.399421e+05  \n",
      "max             2.497617e+06                533479.000000       1.026528e+07  \n"
     ]
    }
   ],
   "source": [
    "# Get summary statistics for numerical columns\n",
    "print(df.describe())"
   ]
  },
  {
   "attachments": {},
   "cell_type": "markdown",
   "metadata": {},
   "source": [
    "We retrieve the exact counts of missing values for each variable. "
   ]
  },
  {
   "cell_type": "code",
   "execution_count": 9,
   "metadata": {},
   "outputs": [
    {
     "name": "stdout",
     "output_type": "stream",
     "text": [
      "Total number of rows with missing values: LoanNumber                          0\n",
      "DateApproved                        0\n",
      "SBAOfficeCode                       0\n",
      "ProcessingMethod                    0\n",
      "BorrowerName                        4\n",
      "BorrowerAddress                    14\n",
      "BorrowerCity                       12\n",
      "BorrowerState                      13\n",
      "BorrowerZip                        13\n",
      "LoanStatusDate                  25713\n",
      "LoanStatus                          0\n",
      "Term                                0\n",
      "SBAGuarantyPercentage               0\n",
      "InitialApprovalAmount               0\n",
      "CurrentApprovalAmount               0\n",
      "UndisbursedAmount                  47\n",
      "FranchiseName                  933126\n",
      "ServicingLenderLocationID           0\n",
      "ServicingLenderName                 0\n",
      "ServicingLenderAddress              0\n",
      "ServicingLenderCity                 0\n",
      "ServicingLenderState                0\n",
      "ServicingLenderZip                  0\n",
      "RuralUrbanIndicator                 0\n",
      "HubzoneIndicator                    0\n",
      "LMIIndicator                        0\n",
      "BusinessAgeDescription              1\n",
      "ProjectCity                        13\n",
      "ProjectCountyName                  57\n",
      "ProjectState                        9\n",
      "ProjectZip                         14\n",
      "CD                                 46\n",
      "JobsReported                        1\n",
      "NAICSCode                        6628\n",
      "Race                                0\n",
      "Ethnicity                           0\n",
      "UTILITIES_PROCEED              629154\n",
      "PAYROLL_PROCEED                  1832\n",
      "MORTGAGE_INTEREST_PROCEED      922348\n",
      "RENT_PROCEED                   868998\n",
      "REFINANCE_EIDL_PROCEED         945676\n",
      "HEALTH_CARE_PROCEED            911085\n",
      "DEBT_INTEREST_PROCEED          936814\n",
      "BusinessType                      722\n",
      "OriginatingLenderLocationID         0\n",
      "OriginatingLender                   0\n",
      "OriginatingLenderCity               0\n",
      "OriginatingLenderState              0\n",
      "Gender                              0\n",
      "Veteran                             0\n",
      "NonProfit                      909190\n",
      "ForgivenessAmount               29646\n",
      "ForgivenessDate                 29646\n",
      "dtype: int64\n"
     ]
    }
   ],
   "source": [
    "# Count the number of rows with missing values in each column\n",
    "num_missing = df.isnull().sum(axis=0)\n",
    "\n",
    "print(f\"Total number of rows with missing values: {num_missing}\")"
   ]
  },
  {
   "attachments": {},
   "cell_type": "markdown",
   "metadata": {},
   "source": [
    "Total number of observations with at least one missing variable"
   ]
  },
  {
   "cell_type": "code",
   "execution_count": 10,
   "metadata": {},
   "outputs": [
    {
     "name": "stdout",
     "output_type": "stream",
     "text": [
      "Total number of rows with missing values: 968530\n"
     ]
    }
   ],
   "source": [
    "# Count the number of rows with missing values\n",
    "num_rows_missing = (df.isnull().sum(axis=1) > 0).sum()\n",
    "\n",
    "print(f\"Total number of rows with missing values: {num_rows_missing}\")"
   ]
  },
  {
   "attachments": {},
   "cell_type": "markdown",
   "metadata": {},
   "source": [
    "Total number of rows with missing values is the same as the total observations in the dataset. This means that all observations have at least one null value. Upon looking closely at the dataset and the data dictionary, we can say that it may be because some of the variables are mutually exclusive responses to form questions. "
   ]
  },
  {
   "attachments": {},
   "cell_type": "markdown",
   "metadata": {},
   "source": [
    "## Data Transformation and Feature Introduction\n",
    "\n",
    "Given that we now have an overview of the dataset. We can now carried out initial tranformations which will alow us to break down and visualize individual elements of the dataset such as processing methods, approval dates, forgiveness dates, and loan amounts with respect to business size and employees. We can also use this opportunity to construct feature variables that may help us derive a more meaningful interpretation from the analysis.  "
   ]
  },
  {
   "attachments": {},
   "cell_type": "markdown",
   "metadata": {},
   "source": [
    "First, we transform columns with misinterpreted dates to correctly identify and validaate date values "
   ]
  },
  {
   "cell_type": "code",
   "execution_count": 7,
   "metadata": {},
   "outputs": [
    {
     "name": "stdout",
     "output_type": "stream",
     "text": [
      "<bound method NDFrame.head of         LoanNumber DateApproved  SBAOfficeCode ProcessingMethod  \\\n",
      "0       9547507704   2020-05-01            464              PPP   \n",
      "1       9777677704   2020-05-01            464              PPP   \n",
      "2       5791407702   2020-05-01           1013              PPP   \n",
      "3       6223567700   2020-05-01            920              PPP   \n",
      "4       9662437702   2020-05-01            101              PPP   \n",
      "...            ...          ...            ...              ...   \n",
      "968526  4395967002   2020-04-03            897              PPP   \n",
      "968527  6985647108   2020-04-14            897              PPP   \n",
      "968528  7996438405   2021-02-12            897              PPS   \n",
      "968529  9054647103   2020-04-15            897              PPP   \n",
      "968530  9184687004   2020-04-09            897              PPP   \n",
      "\n",
      "                                             BorrowerName  \\\n",
      "0                                   SUMTER COATINGS, INC.   \n",
      "1                                   PLEASANT PLACES, INC.   \n",
      "2                                 BOYER CHILDREN'S CLINIC   \n",
      "3                                KIRTLEY CONSTRUCTION INC   \n",
      "4                                            AERO BOX LLC   \n",
      "...                                                   ...   \n",
      "968526                           ROY E PAULSON, JR., P.C.   \n",
      "968527  SWEETWATER COUNTY CHILD DEVELOPMENTAL CENTER, ...   \n",
      "968528                  ELECTRICAL SYSTEMS OF WYOMING INC   \n",
      "968529                                     EDEN LIFE CARE   \n",
      "968530                      S & S JOHNSON ENTERPRISES INC   \n",
      "\n",
      "                      BorrowerAddress      BorrowerCity BorrowerState  \\\n",
      "0               2410 Highway 15 South            Sumter           NaN   \n",
      "1                 7684 Southrail Road  North Charleston           NaN   \n",
      "2                    1850 BOYER AVE E           SEATTLE           NaN   \n",
      "3                1661 MARTIN RANCH RD    SAN BERNARDINO           NaN   \n",
      "4                                 NaN               NaN           NaN   \n",
      "...                               ...               ...           ...   \n",
      "968526                 102 N. Kenwood            CASPER            WY   \n",
      "968527          1715 HITCHING POST DR       GREEN RIVER            WY   \n",
      "968528                   1105 Adon Rd             Rozet            WY   \n",
      "968529  30 N. Gould Street Suite 4000          SHERIDAN            WY   \n",
      "968530           7342 Granite Loop Rd     TETON VILLAGE            WY   \n",
      "\n",
      "       BorrowerZip LoanStatusDate  ...                 BusinessType  \\\n",
      "0       29150-9662     2020-12-18  ...                  Corporation   \n",
      "1       29420-9000     2021-09-28  ...          Sole Proprietorship   \n",
      "2       98112-2922     2021-03-17  ...      Non-Profit Organization   \n",
      "3       92407-1740     2021-10-16  ...                  Corporation   \n",
      "4              NaN     2021-08-17  ...                          NaN   \n",
      "...            ...            ...  ...                          ...   \n",
      "968526  82601-2724     2021-01-13  ...                  Corporation   \n",
      "968527  82935-5783     2020-12-08  ...  Non-Profit Childcare Center   \n",
      "968528  82727-8465     2021-09-15  ...     Subchapter S Corporation   \n",
      "968529       82801     2022-03-08  ...                  Corporation   \n",
      "968530  83025-0550     2021-10-22  ...     Subchapter S Corporation   \n",
      "\n",
      "        OriginatingLenderLocationID                      OriginatingLender  \\\n",
      "0                             19248                           Synovus Bank   \n",
      "1                             19248                           Synovus Bank   \n",
      "2                              9551  Bank of America, National Association   \n",
      "3                              9551  Bank of America, National Association   \n",
      "4                             57328           The Huntington National Bank   \n",
      "...                             ...                                    ...   \n",
      "968526                        42366                     Platte Valley Bank   \n",
      "968527                       122813                      NebraskaLand Bank   \n",
      "968528                        77189        First National Bank of Gillette   \n",
      "968529                        25901                    Small Business Bank   \n",
      "968530                        77193             Bank of Jackson Hole Trust   \n",
      "\n",
      "        OriginatingLenderCity  OriginatingLenderState        Gender  \\\n",
      "0                    COLUMBUS                      GA    Unanswered   \n",
      "1                    COLUMBUS                      GA    Male Owned   \n",
      "2                   CHARLOTTE                      NC    Unanswered   \n",
      "3                   CHARLOTTE                      NC    Male Owned   \n",
      "4                    COLUMBUS                      OH    Unanswered   \n",
      "...                       ...                     ...           ...   \n",
      "968526             TORRINGTON                      WY    Male Owned   \n",
      "968527           NORTH PLATTE                      NE    Unanswered   \n",
      "968528               GILLETTE                      WY  Female Owned   \n",
      "968529                 LENEXA                      KS    Unanswered   \n",
      "968530                JACKSON                      WY    Unanswered   \n",
      "\n",
      "            Veteran  NonProfit ForgivenessAmount ForgivenessDate  \n",
      "0        Unanswered        NaN         773553.37      2020-11-20  \n",
      "1       Non-Veteran        NaN         746336.24      2021-08-12  \n",
      "2        Unanswered          Y         696677.49      2021-02-10  \n",
      "3       Non-Veteran        NaN         395264.11      2021-09-10  \n",
      "4        Unanswered        NaN         370819.35      2021-04-08  \n",
      "...             ...        ...               ...             ...  \n",
      "968526  Non-Veteran        NaN         151037.50      2020-12-09  \n",
      "968527   Unanswered          Y         150789.04      2020-11-03  \n",
      "968528   Unanswered        NaN         150743.84      2021-08-17  \n",
      "968529   Unanswered        NaN         152820.83      2022-02-23  \n",
      "968530   Unanswered        NaN         152162.50      2021-09-22  \n",
      "\n",
      "[968531 rows x 53 columns]>\n"
     ]
    }
   ],
   "source": [
    "# Transform columns with date values from Object DType to DateTime DType\n",
    "\n",
    "df[['DateApproved', 'LoanStatusDate', 'ForgivenessDate']] = df[['DateApproved', 'LoanStatusDate', 'ForgivenessDate']].apply(pd.to_datetime)\n",
    "print (df.head)"
   ]
  },
  {
   "attachments": {},
   "cell_type": "markdown",
   "metadata": {},
   "source": [
    "Then, we introduce new variables that individually encompass the Month and Year components of the DateTime variables **DateApproved** and **ForgivenessDate**. "
   ]
  },
  {
   "cell_type": "code",
   "execution_count": 15,
   "metadata": {},
   "outputs": [],
   "source": [
    "df['year_approved']=pd.DatetimeIndex(df['DateApproved']).year\n",
    "df['month_approved']=pd.DatetimeIndex(df['DateApproved']).month\n",
    "\n",
    "df['year_forgiven']=pd.DatetimeIndex(df['ForgivenessDate']).year\n",
    "df['month_forgiven']=pd.DatetimeIndex(df['ForgivenessDate']).month"
   ]
  },
  {
   "attachments": {},
   "cell_type": "markdown",
   "metadata": {},
   "source": [
    "Next, given the high variability in the loan amounts sanctioned, lets introduce a feature containing normalizd the loan amounts by adjusting the loan amounts for the number of employees disclosed. "
   ]
  },
  {
   "cell_type": "code",
   "execution_count": 13,
   "metadata": {},
   "outputs": [],
   "source": [
    "df['loan_amount_per_employee'] = df['CurrentApprovalAmount'] / df['JobsReported']"
   ]
  },
  {
   "attachments": {},
   "cell_type": "markdown",
   "metadata": {},
   "source": [
    "Then, we know that the PPP Loan Program was executed in two rounds. First, was called the PPP processing while the second was called PPS processing. Let's introduce separate dataframes that divide the dataset by processing methods for all observations. "
   ]
  },
  {
   "cell_type": "code",
   "execution_count": 12,
   "metadata": {},
   "outputs": [],
   "source": [
    "FirstRound=df.loc[df['ProcessingMethod']=='PPP']\n",
    "SecondRound=df.loc[df['ProcessingMethod']=='PPS']"
   ]
  },
  {
   "attachments": {},
   "cell_type": "markdown",
   "metadata": {},
   "source": [
    "Now that we have executed the initial transformations, it is time to visualize the data! "
   ]
  },
  {
   "attachments": {},
   "cell_type": "markdown",
   "metadata": {},
   "source": [
    "First, lets look at a time series for how many the loans were disbursed across time. And later, correlate it with loan amounts sanctioned and disbursed and repaid. "
   ]
  },
  {
   "cell_type": "code",
   "execution_count": 16,
   "metadata": {},
   "outputs": [
    {
     "data": {
      "text/plain": [
       "<Axes: ylabel='count'>"
      ]
     },
     "execution_count": 16,
     "metadata": {},
     "output_type": "execute_result"
    },
    {
     "data": {
      "image/png": "[encoded data removed]",
      "text/plain": [
       "<Figure size 1000x500 with 1 Axes>"
      ]
     },
     "metadata": {},
     "output_type": "display_data"
    }
   ],
   "source": [
    "# load data from a csv file\n",
    "data = pd.read_csv('data.csv', parse_dates=['date'], index_col='date')\n",
    "\n",
    "# create a figure and axis object\n",
    "fig, ax = plt.subplots(figsize=(10, 6))\n",
    "\n",
    "# plot the time series data\n",
    "ax.plot(data.index, data['value'], color='blue')\n",
    "\n",
    "# set the axis labels and title\n",
    "ax.set_xlabel('Date')\n",
    "ax.set_ylabel('Value')\n",
    "ax.set_title('Time Series Graph')\n",
    "\n",
    "# format the x-axis tick labels\n",
    "date_format = '%Y-%m-%d'  # set the date format\n",
    "date_formatter = plt.DateFormatter(date_format)  # create a date formatter object\n",
    "ax.xaxis.set_major_formatter(date_formatter)  # set the formatter for the x-axis ticks\n",
    "\n",
    "# display the plot\n",
    "plt.show()"
   ]
  }
 ],
 "metadata": {
  "kernelspec": {
   "display_name": "Python 3",
   "language": "python",
   "name": "python3"
  },
  "language_info": {
   "codemirror_mode": {
    "name": "ipython",
    "version": 3
   },
   "file_extension": ".py",
   "mimetype": "text/x-python",
   "name": "python",
   "nbconvert_exporter": "python",
   "pygments_lexer": "ipython3",
   "version": "3.11.2"
  },
  "orig_nbformat": 4,
  "vscode": {
   "interpreter": {
    "hash": "aee8b7b246df8f9039afb4144a1f6fd8d2ca17a180786b69acc140d282b71a49"
   }
  }
 },
 "nbformat": 4,
 "nbformat_minor": 2
}
